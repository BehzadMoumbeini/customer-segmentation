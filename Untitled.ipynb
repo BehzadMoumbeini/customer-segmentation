{
 "cells": [
  {
   "cell_type": "code",
   "execution_count": null,
   "id": "5d71974d",
   "metadata": {},
   "outputs": [],
   "source": [
    "import pandas as pd\n",
    "import numpy as np\n",
    "from sklearn.preprocessing import StandardScaler\n",
    "from sklearn.cluster import KMeans\n",
    "import matplotlib.pyplot as plt\n",
    "import seaborn as sns"
   ]
  },
  {
   "cell_type": "code",
   "execution_count": null,
   "id": "e4d2d50e",
   "metadata": {},
   "outputs": [],
   "source": [
    "#load imput data:\n",
    "\n",
    "data = pd.read_csv('../insurance_customers.csv')\n"
   ]
  },
  {
   "cell_type": "code",
   "execution_count": null,
   "id": "7333dfaa",
   "metadata": {},
   "outputs": [],
   "source": [
    "# data processing\n",
    "\n",
    "scaler = StandardScaler()\n",
    "scaled_data = scaler.fit_transform(data.drop(['CustomerID', 'Gender'], axis=1))"
   ]
  },
  {
   "cell_type": "code",
   "execution_count": null,
   "id": "3d0773ba",
   "metadata": {},
   "outputs": [],
   "source": [
    "#K-means clustering\n",
    "\n",
    "wcss = []\n",
    "for i in range(1, 11):\n",
    "    kmeans = KMeans(n_clusters=i, init='k-means++', max_iter=300, n_init=10, random_state=42)\n",
    "    kmeans.fit(scaled_data)\n",
    "    wcss.append(kmeans.inertia_)\n",
    "\n",
    "# Plot the elbow graph\n",
    "plt.figure(figsize=(10,5))\n",
    "plt.plot(range(1, 11), wcss)\n",
    "plt.title('Elbow Method')\n",
    "plt.xlabel('Number of clusters')\n",
    "plt.ylabel('WCSS')\n",
    "plt.show()\n"
   ]
  },
  {
   "cell_type": "code",
   "execution_count": null,
   "id": "6708b575",
   "metadata": {},
   "outputs": [],
   "source": [
    "#applying K-means clustering\n",
    "\n",
    "kmeans = KMeans(n_clusters=4, init='k-means++', max_iter=300, n_init=10, random_state=42)\n",
    "clusters = kmeans.fit_predict(scaled_data)"
   ]
  },
  {
   "cell_type": "code",
   "execution_count": null,
   "id": "026d3e1b",
   "metadata": {},
   "outputs": [],
   "source": [
    "#add cluster info to df\n",
    "data['Cluster'] = clusters"
   ]
  },
  {
   "cell_type": "code",
   "execution_count": null,
   "id": "b7b35062",
   "metadata": {},
   "outputs": [],
   "source": [
    "#visualize clusters\n",
    "\n",
    "sns.pairplot(data, hue='Cluster', palette='Set2')"
   ]
  },
  {
   "cell_type": "code",
   "execution_count": null,
   "id": "55f852c1",
   "metadata": {},
   "outputs": [],
   "source": [
    "#save the results\n",
    "\n",
    "data.to_csv('../segmented_customers.csv', index=False)"
   ]
  },
  {
   "cell_type": "code",
   "execution_count": null,
   "id": "d998c26b",
   "metadata": {},
   "outputs": [],
   "source": [
    "\n",
    "\n"
   ]
  }
 ],
 "metadata": {
  "kernelspec": {
   "display_name": "Python 3 (ipykernel)",
   "language": "python",
   "name": "python3"
  },
  "language_info": {
   "codemirror_mode": {
    "name": "ipython",
    "version": 3
   },
   "file_extension": ".py",
   "mimetype": "text/x-python",
   "name": "python",
   "nbconvert_exporter": "python",
   "pygments_lexer": "ipython3",
   "version": "3.10.8"
  }
 },
 "nbformat": 4,
 "nbformat_minor": 5
}
